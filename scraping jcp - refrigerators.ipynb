{
 "cells": [
  {
   "cell_type": "code",
   "execution_count": 6,
   "metadata": {
    "collapsed": true
   },
   "outputs": [],
   "source": [
    "# Importing Required Libraries\n",
    "\n",
    "import os\n",
    "from bs4 import BeautifulSoup\n",
    "import requests\n",
    "import pandas as pd\n",
    "from pandas import Series, DataFrame\n",
    "from IPython.html.widgets import FloatProgress\n",
    "from time import sleep\n",
    "from IPython.display import display\n",
    "from requests.exceptions import ConnectionError\n",
    "import numpy as np\n",
    "import time\n",
    "pd.set_option('display.expand_frame_repr', False)\n",
    "import urllib\n",
    "from selenium import webdriver  \n",
    "from selenium.webdriver.firefox.firefox_binary import FirefoxBinary"
   ]
  },
  {
   "cell_type": "code",
   "execution_count": 8,
   "metadata": {
    "collapsed": true
   },
   "outputs": [],
   "source": [
    "url = 'http://www.jcpenney.com/g/refrigerators/N-1b2ke21Dgn3fgy?productGridView=large'\n",
    "pgurl_fore = 'http://www.jcpenney.com/g/refrigerators/N-1b2ke21Dgn3fgy?page='\n",
    "pgurl_back = '&merchSize=2'\n",
    "numpgs = 10\n",
    "! mkdir refrigerators\n",
    "entity = \"refrigerators\"\n"
   ]
  },
  {
   "cell_type": "code",
   "execution_count": 9,
   "metadata": {
    "collapsed": true
   },
   "outputs": [],
   "source": [
    "# Defning variables \n",
    "title = []\n",
    "image_url = []\n",
    "image_name = []"
   ]
  },
  {
   "cell_type": "code",
   "execution_count": 10,
   "metadata": {
    "collapsed": true
   },
   "outputs": [],
   "source": [
    "# Function to for scraping. Function uses Selenium to scrape. It is required to skip the Javascript call\n",
    "def makesoup(url,ini):\n",
    "    \n",
    "#     Added lines for incorporating selenium, provide the path where you have geckodriver.exe file\n",
    "    PROJECT_PATH = os.path.dirname(os.path.dirname(\"_PATH_\"))\n",
    "\n",
    "    browser = webdriver.Firefox(PROJECT_PATH) \n",
    "    browser.get(url)  \n",
    "    html_source = browser.page_source  \n",
    "    browser.quit()\n",
    "#     End of selenium part\n",
    "    \n",
    "    soup = BeautifulSoup(html_source, \"html.parser\")\n",
    "    i = ini-1\n",
    "    for each in soup.findAll('li',{'class':'productDisplay'}):\n",
    "        i = i+1\n",
    "#         For fetching the title\n",
    "        if each.find('div',{'class':'productDisplay_title'}) and each.find('img',{'class':'productDisplay_image--default'}):\n",
    "            \n",
    "            title.append(each.find('div',{'class':'productDisplay_title'}).find(text=True).strip())\n",
    "            imgurlt = each.find('img',{'class':'productDisplay_image--default'}).get('src')\n",
    "            image_url.append(imgurlt)\n",
    "            urllib.urlretrieve(imgurlt, \".\\\\\" + entity + \"\\\\img_\"+str(i)+\".jpg\")\n",
    "            image_name.append(\"img_\"+str(i)+\".jpg\")\n",
    "            \n",
    "        else:\n",
    "            title.append(\"NA\")\n",
    "            image_url.append(\"NA\")\n",
    "            image_name.append(\"NA\")\n",
    "        \n",
    "    return i"
   ]
  },
  {
   "cell_type": "code",
   "execution_count": 11,
   "metadata": {},
   "outputs": [
    {
     "data": {
      "application/vnd.jupyter.widget-view+json": {
       "model_id": "f3f024d2dfc54f32afe77e1f847dfb31"
      }
     },
     "metadata": {},
     "output_type": "display_data"
    }
   ],
   "source": [
    "max = numpgs\n",
    "\n",
    "try:\n",
    "    fut = makesoup(url,ini=0) \n",
    "except ConnectionError:\n",
    "    time.sleep(1200)\n",
    "    fut = makesoup(url,ini=fut) \n",
    "fut = fut+1\n",
    "    \n",
    "# For locaing bar\n",
    "f = FloatProgress(min=1, max=max-1)\n",
    "display(f)\n",
    "\n",
    "for j in range(2,max):\n",
    "    f.value = j\n",
    "    try:\n",
    "        fut = makesoup(pgurl_fore + str(j) + pgurl_back,ini=fut) \n",
    "    except ConnectionError:\n",
    "        time.sleep(1200)\n",
    "        fut = makesoup(pgurl_fore + str(j) + pgurl_back,ini=fut) \n",
    "    time.sleep(10)\n",
    "    fut = fut + 1\n"
   ]
  },
  {
   "cell_type": "code",
   "execution_count": 12,
   "metadata": {
    "collapsed": true
   },
   "outputs": [],
   "source": [
    "# Converting to dF and exporting\n",
    "title = Series(title)\n",
    "image_url = Series(image_url)\n",
    "image_name = Series(image_name)\n",
    "tdf = pd.concat([title ,image_url ,image_name ],axis=1)\n",
    "tdf.columns = [\"title \",\"image_url \",\"image_name \"]\n",
    "tdf.to_csv(\".\\\\\"+ entity + \"\\\\jcp_\" + entity + \".txt\", sep='\\t', encoding='utf-8')"
   ]
  },
  {
   "cell_type": "code",
   "execution_count": null,
   "metadata": {
    "collapsed": true
   },
   "outputs": [],
   "source": []
  }
 ],
 "metadata": {
  "kernelspec": {
   "display_name": "Python [default]",
   "language": "python",
   "name": "python2"
  },
  "language_info": {
   "codemirror_mode": {
    "name": "ipython",
    "version": 2
   },
   "file_extension": ".py",
   "mimetype": "text/x-python",
   "name": "python",
   "nbconvert_exporter": "python",
   "pygments_lexer": "ipython2",
   "version": "2.7.13"
  }
 },
 "nbformat": 4,
 "nbformat_minor": 2
}
